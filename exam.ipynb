{
 "cells": [
  {
   "metadata": {},
   "cell_type": "markdown",
   "source": [
    "# Exercise: Exploratory Data Analysis with Pandas\n",
    "## Instructions\n",
    "1. Data Collection\n",
    "    - Search and collect data on the following: (1993 - 2023)\n",
    "        - Israel interest tares\n",
    "        - US interest rates\n",
    "        - USD to ILS exchange rates\n",
    "    - For each dataset, create a pandas DataFrame with the following columns:\n",
    "        - Year\n",
    "        - Month\n",
    "        - Current_Rate (Interest rate or exchange rate for that month)\n",
    "        - Change_From_Last_Month (Difference in Current_Rate from the previous month)\n",
    "        - Optional: You may include additional columns if you find them useful (e.g., Change_Percentage, Date).\n",
    "\n"
   ],
   "id": "2b8e938eb34b0315"
  },
  {
   "metadata": {},
   "cell_type": "markdown",
   "source": "",
   "id": "b50454a1f81cb309"
  },
  {
   "metadata": {
    "ExecuteTime": {
     "end_time": "2024-11-07T10:59:45.384770Z",
     "start_time": "2024-11-07T10:59:45.379236Z"
    }
   },
   "cell_type": "code",
   "source": "import pandas as pd",
   "id": "17a7b132e53c5faa",
   "outputs": [],
   "execution_count": 116
  },
  {
   "metadata": {
    "ExecuteTime": {
     "end_time": "2024-11-07T10:59:45.803872Z",
     "start_time": "2024-11-07T10:59:45.793937Z"
    }
   },
   "cell_type": "code",
   "source": [
    "# שער ההמרה של דולר לשקל \n",
    "USD_to_ILS_exchange_rates = pd.read_csv('USD_ILS Historical Data.csv')\n",
    "USD_to_ILS_exchange_rates = USD_to_ILS_exchange_rates.drop(['Open', 'Change %', 'High', 'Low', 'Vol.'], axis=1)"
   ],
   "id": "db21acb4a98553ca",
   "outputs": [],
   "execution_count": 117
  },
  {
   "metadata": {
    "ExecuteTime": {
     "end_time": "2024-11-07T10:59:46.516901Z",
     "start_time": "2024-11-07T10:59:46.509793Z"
    }
   },
   "cell_type": "code",
   "source": [
    "# המרה של הפורמט של התאריך\n",
    "USD_to_ILS_exchange_rates['Date'] = pd.to_datetime(USD_to_ILS_exchange_rates['Date'])"
   ],
   "id": "72fb1832a7453619",
   "outputs": [],
   "execution_count": 118
  },
  {
   "metadata": {
    "ExecuteTime": {
     "end_time": "2024-11-07T10:59:47.033249Z",
     "start_time": "2024-11-07T10:59:47.026240Z"
    }
   },
   "cell_type": "code",
   "source": [
    "# הפרדת העמודה של התאריך לשתי עמודות נפרדות אחת של שנה ואחת של חודש\n",
    "USD_to_ILS_exchange_rates['Month'] = USD_to_ILS_exchange_rates['Date'].dt.month\n",
    "USD_to_ILS_exchange_rates['Year'] = USD_to_ILS_exchange_rates['Date'].dt.year\n",
    "USD_to_ILS_exchange_rates = USD_to_ILS_exchange_rates.drop('Date', axis=1)"
   ],
   "id": "3758d0d74ae4357e",
   "outputs": [],
   "execution_count": 119
  },
  {
   "metadata": {
    "ExecuteTime": {
     "end_time": "2024-11-07T10:59:47.739756Z",
     "start_time": "2024-11-07T10:59:47.732091Z"
    }
   },
   "cell_type": "code",
   "source": [
    "USD_to_ILS_exchange_rates['Current_Rate'] = USD_to_ILS_exchange_rates['Price']\n",
    "USD_to_ILS_exchange_rates = USD_to_ILS_exchange_rates.drop('Price', axis=1)"
   ],
   "id": "283d57fc95554aad",
   "outputs": [],
   "execution_count": 120
  },
  {
   "metadata": {
    "ExecuteTime": {
     "end_time": "2024-11-07T10:59:48.412881Z",
     "start_time": "2024-11-07T10:59:48.401476Z"
    }
   },
   "cell_type": "code",
   "source": [
    "# הוספת עמודה שתציג את היחס של ה price של אותה שורה לשורה הקודמת\n",
    "USD_to_ILS_exchange_rates['Change_From_Last_Month'] = USD_to_ILS_exchange_rates['Current_Rate'].diff()\n",
    "USD_to_ILS_exchange_rates.head()"
   ],
   "id": "d4da924453936f53",
   "outputs": [
    {
     "data": {
      "text/plain": [
       "   Month  Year  Current_Rate  Change_From_Last_Month\n",
       "0      1  2023        3.4492                     NaN\n",
       "1     12  2022        3.5177                  0.0685\n",
       "2     11  2022        3.4076                 -0.1101\n",
       "3     10  2022        3.5214                  0.1138\n",
       "4      9  2022        3.5628                  0.0414"
      ],
      "text/html": [
       "<div>\n",
       "<style scoped>\n",
       "    .dataframe tbody tr th:only-of-type {\n",
       "        vertical-align: middle;\n",
       "    }\n",
       "\n",
       "    .dataframe tbody tr th {\n",
       "        vertical-align: top;\n",
       "    }\n",
       "\n",
       "    .dataframe thead th {\n",
       "        text-align: right;\n",
       "    }\n",
       "</style>\n",
       "<table border=\"1\" class=\"dataframe\">\n",
       "  <thead>\n",
       "    <tr style=\"text-align: right;\">\n",
       "      <th></th>\n",
       "      <th>Month</th>\n",
       "      <th>Year</th>\n",
       "      <th>Current_Rate</th>\n",
       "      <th>Change_From_Last_Month</th>\n",
       "    </tr>\n",
       "  </thead>\n",
       "  <tbody>\n",
       "    <tr>\n",
       "      <th>0</th>\n",
       "      <td>1</td>\n",
       "      <td>2023</td>\n",
       "      <td>3.4492</td>\n",
       "      <td>NaN</td>\n",
       "    </tr>\n",
       "    <tr>\n",
       "      <th>1</th>\n",
       "      <td>12</td>\n",
       "      <td>2022</td>\n",
       "      <td>3.5177</td>\n",
       "      <td>0.0685</td>\n",
       "    </tr>\n",
       "    <tr>\n",
       "      <th>2</th>\n",
       "      <td>11</td>\n",
       "      <td>2022</td>\n",
       "      <td>3.4076</td>\n",
       "      <td>-0.1101</td>\n",
       "    </tr>\n",
       "    <tr>\n",
       "      <th>3</th>\n",
       "      <td>10</td>\n",
       "      <td>2022</td>\n",
       "      <td>3.5214</td>\n",
       "      <td>0.1138</td>\n",
       "    </tr>\n",
       "    <tr>\n",
       "      <th>4</th>\n",
       "      <td>9</td>\n",
       "      <td>2022</td>\n",
       "      <td>3.5628</td>\n",
       "      <td>0.0414</td>\n",
       "    </tr>\n",
       "  </tbody>\n",
       "</table>\n",
       "</div>"
      ]
     },
     "execution_count": 121,
     "metadata": {},
     "output_type": "execute_result"
    }
   ],
   "execution_count": 121
  },
  {
   "metadata": {
    "ExecuteTime": {
     "end_time": "2024-11-07T10:59:49.604142Z",
     "start_time": "2024-11-07T10:59:49.595711Z"
    }
   },
   "cell_type": "code",
   "source": [
    "# ריבית בנק ישראל\n",
    "israel_interest = pd.read_csv('data.csv')\n",
    "israel_interest = israel_interest.drop('Unnamed: 0', axis=1)"
   ],
   "id": "4537d797e99cdd41",
   "outputs": [],
   "execution_count": 122
  },
  {
   "metadata": {
    "ExecuteTime": {
     "end_time": "2024-11-07T10:59:50.066910Z",
     "start_time": "2024-11-07T10:59:50.061132Z"
    }
   },
   "cell_type": "code",
   "source": [
    "# המרה של הפורמט של התאריך\n",
    "israel_interest['Time period'] = pd.to_datetime(israel_interest['Time period'])"
   ],
   "id": "7ec508a656199ba8",
   "outputs": [],
   "execution_count": 123
  },
  {
   "metadata": {
    "ExecuteTime": {
     "end_time": "2024-11-07T10:59:50.649141Z",
     "start_time": "2024-11-07T10:59:50.639464Z"
    }
   },
   "cell_type": "code",
   "source": [
    "# הפרדת העמודה של התאריך לשתי עמודות נפרדות אחת של שנה ואחת של חודש\n",
    "israel_interest['Year'] = israel_interest['Time period'].dt.year\n",
    "israel_interest['Month'] = israel_interest['Time period'].dt.month\n",
    "israel_interest = israel_interest.drop('Time period', axis=1)"
   ],
   "id": "2843bc0be08a93af",
   "outputs": [],
   "execution_count": 124
  },
  {
   "metadata": {
    "ExecuteTime": {
     "end_time": "2024-11-07T10:59:52.775836Z",
     "start_time": "2024-11-07T10:59:52.770186Z"
    }
   },
   "cell_type": "code",
   "source": [
    "israel_interest['Current_Rate'] = israel_interest['BNK_99001_MA_GNRL_1:M:99001:E']\n",
    "israel_interest = israel_interest.drop('BNK_99001_MA_GNRL_1:M:99001:E', axis=1)"
   ],
   "id": "760681a28373bab0",
   "outputs": [],
   "execution_count": 125
  },
  {
   "metadata": {
    "ExecuteTime": {
     "end_time": "2024-11-07T10:59:53.541895Z",
     "start_time": "2024-11-07T10:59:53.529989Z"
    }
   },
   "cell_type": "code",
   "source": [
    "# הוספת עמודה שתציג את היחס של ה price של אותה שורה לשורה הקודמת\n",
    "israel_interest['Change_From_Last_Month'] = israel_interest['Current_Rate'].diff()\n",
    "israel_interest.head()"
   ],
   "id": "500d5dc815d41f6e",
   "outputs": [
    {
     "data": {
      "text/plain": [
       "   Year  Month  Current_Rate  Change_From_Last_Month\n",
       "0  1994      1         11.78                     NaN\n",
       "1  1994      2         11.87                    0.09\n",
       "2  1994      3         11.87                    0.00\n",
       "3  1994      4         11.87                    0.00\n",
       "4  1994      5         12.24                    0.37"
      ],
      "text/html": [
       "<div>\n",
       "<style scoped>\n",
       "    .dataframe tbody tr th:only-of-type {\n",
       "        vertical-align: middle;\n",
       "    }\n",
       "\n",
       "    .dataframe tbody tr th {\n",
       "        vertical-align: top;\n",
       "    }\n",
       "\n",
       "    .dataframe thead th {\n",
       "        text-align: right;\n",
       "    }\n",
       "</style>\n",
       "<table border=\"1\" class=\"dataframe\">\n",
       "  <thead>\n",
       "    <tr style=\"text-align: right;\">\n",
       "      <th></th>\n",
       "      <th>Year</th>\n",
       "      <th>Month</th>\n",
       "      <th>Current_Rate</th>\n",
       "      <th>Change_From_Last_Month</th>\n",
       "    </tr>\n",
       "  </thead>\n",
       "  <tbody>\n",
       "    <tr>\n",
       "      <th>0</th>\n",
       "      <td>1994</td>\n",
       "      <td>1</td>\n",
       "      <td>11.78</td>\n",
       "      <td>NaN</td>\n",
       "    </tr>\n",
       "    <tr>\n",
       "      <th>1</th>\n",
       "      <td>1994</td>\n",
       "      <td>2</td>\n",
       "      <td>11.87</td>\n",
       "      <td>0.09</td>\n",
       "    </tr>\n",
       "    <tr>\n",
       "      <th>2</th>\n",
       "      <td>1994</td>\n",
       "      <td>3</td>\n",
       "      <td>11.87</td>\n",
       "      <td>0.00</td>\n",
       "    </tr>\n",
       "    <tr>\n",
       "      <th>3</th>\n",
       "      <td>1994</td>\n",
       "      <td>4</td>\n",
       "      <td>11.87</td>\n",
       "      <td>0.00</td>\n",
       "    </tr>\n",
       "    <tr>\n",
       "      <th>4</th>\n",
       "      <td>1994</td>\n",
       "      <td>5</td>\n",
       "      <td>12.24</td>\n",
       "      <td>0.37</td>\n",
       "    </tr>\n",
       "  </tbody>\n",
       "</table>\n",
       "</div>"
      ]
     },
     "execution_count": 126,
     "metadata": {},
     "output_type": "execute_result"
    }
   ],
   "execution_count": 126
  },
  {
   "metadata": {
    "ExecuteTime": {
     "end_time": "2024-11-07T10:59:55.114117Z",
     "start_time": "2024-11-07T10:59:55.105995Z"
    }
   },
   "cell_type": "code",
   "source": [
    "# ריבית הדולר\n",
    "US_Interest = pd.read_csv('FEDFUNDS.csv')"
   ],
   "id": "94ff1ca428feb9d2",
   "outputs": [],
   "execution_count": 127
  },
  {
   "metadata": {
    "ExecuteTime": {
     "end_time": "2024-11-07T10:59:55.530331Z",
     "start_time": "2024-11-07T10:59:55.523396Z"
    }
   },
   "cell_type": "code",
   "source": [
    "# המרה של הפורמט של התאריך\n",
    "US_Interest['DATE'] = pd.to_datetime(US_Interest['DATE'])"
   ],
   "id": "94460c40d57f1e9f",
   "outputs": [],
   "execution_count": 128
  },
  {
   "metadata": {
    "ExecuteTime": {
     "end_time": "2024-11-07T10:59:57.506069Z",
     "start_time": "2024-11-07T10:59:57.496448Z"
    }
   },
   "cell_type": "code",
   "source": [
    "# הפרדת העמודה של התאריך לשתי עמודות נפרדות אחת של שנה ואחת של חודש\n",
    "US_Interest['Year'] = US_Interest['DATE'].dt.year\n",
    "US_Interest['Month'] = US_Interest['DATE'].dt.month\n",
    "Interest_rates_in_the_US = US_Interest.drop('DATE', axis=1)"
   ],
   "id": "ca7e92f11099f9e3",
   "outputs": [],
   "execution_count": 129
  },
  {
   "metadata": {
    "ExecuteTime": {
     "end_time": "2024-11-07T10:59:58.086690Z",
     "start_time": "2024-11-07T10:59:58.074959Z"
    }
   },
   "cell_type": "code",
   "source": [
    "# הוספת עמודה שתציג את היחס של ה price של אותה שורה לשורה הקודמת\n",
    "US_Interest['Change_From_Last_Month'] = US_Interest['FEDFUNDS'].diff()\n",
    "US_Interest.head()"
   ],
   "id": "624dd3e6504090b3",
   "outputs": [
    {
     "data": {
      "text/plain": [
       "        DATE  FEDFUNDS  Year  Month  Change_From_Last_Month\n",
       "0 1954-07-01      0.80  1954      7                     NaN\n",
       "1 1954-08-01      1.22  1954      8                    0.42\n",
       "2 1954-09-01      1.07  1954      9                   -0.15\n",
       "3 1954-10-01      0.85  1954     10                   -0.22\n",
       "4 1954-11-01      0.83  1954     11                   -0.02"
      ],
      "text/html": [
       "<div>\n",
       "<style scoped>\n",
       "    .dataframe tbody tr th:only-of-type {\n",
       "        vertical-align: middle;\n",
       "    }\n",
       "\n",
       "    .dataframe tbody tr th {\n",
       "        vertical-align: top;\n",
       "    }\n",
       "\n",
       "    .dataframe thead th {\n",
       "        text-align: right;\n",
       "    }\n",
       "</style>\n",
       "<table border=\"1\" class=\"dataframe\">\n",
       "  <thead>\n",
       "    <tr style=\"text-align: right;\">\n",
       "      <th></th>\n",
       "      <th>DATE</th>\n",
       "      <th>FEDFUNDS</th>\n",
       "      <th>Year</th>\n",
       "      <th>Month</th>\n",
       "      <th>Change_From_Last_Month</th>\n",
       "    </tr>\n",
       "  </thead>\n",
       "  <tbody>\n",
       "    <tr>\n",
       "      <th>0</th>\n",
       "      <td>1954-07-01</td>\n",
       "      <td>0.80</td>\n",
       "      <td>1954</td>\n",
       "      <td>7</td>\n",
       "      <td>NaN</td>\n",
       "    </tr>\n",
       "    <tr>\n",
       "      <th>1</th>\n",
       "      <td>1954-08-01</td>\n",
       "      <td>1.22</td>\n",
       "      <td>1954</td>\n",
       "      <td>8</td>\n",
       "      <td>0.42</td>\n",
       "    </tr>\n",
       "    <tr>\n",
       "      <th>2</th>\n",
       "      <td>1954-09-01</td>\n",
       "      <td>1.07</td>\n",
       "      <td>1954</td>\n",
       "      <td>9</td>\n",
       "      <td>-0.15</td>\n",
       "    </tr>\n",
       "    <tr>\n",
       "      <th>3</th>\n",
       "      <td>1954-10-01</td>\n",
       "      <td>0.85</td>\n",
       "      <td>1954</td>\n",
       "      <td>10</td>\n",
       "      <td>-0.22</td>\n",
       "    </tr>\n",
       "    <tr>\n",
       "      <th>4</th>\n",
       "      <td>1954-11-01</td>\n",
       "      <td>0.83</td>\n",
       "      <td>1954</td>\n",
       "      <td>11</td>\n",
       "      <td>-0.02</td>\n",
       "    </tr>\n",
       "  </tbody>\n",
       "</table>\n",
       "</div>"
      ]
     },
     "execution_count": 130,
     "metadata": {},
     "output_type": "execute_result"
    }
   ],
   "execution_count": 130
  },
  {
   "metadata": {
    "ExecuteTime": {
     "end_time": "2024-11-07T10:59:59.300099Z",
     "start_time": "2024-11-07T10:59:59.295824Z"
    }
   },
   "cell_type": "code",
   "source": "# your code here",
   "id": "8fb38157aa6333f3",
   "outputs": [],
   "execution_count": 131
  },
  {
   "metadata": {},
   "cell_type": "markdown",
   "source": [
    "## Part A: Single DataFrame Analysis \n",
    "1. Display the first 5 rows of the US interest rates DataFrame.\n",
    "\n",
    "2. Calculate the average Israeli interest rate over the period covered by your data.\n",
    "\n",
    "3. Find the month and year when the USD to ILS exchange rate had the highest increase from the previous month.\n",
    "\n",
    "4. Determine the total number of months where the US interest rate decreased compared to the previous month.\n",
    "\n",
    "5. Add a new column to the Israeli interest rates DataFrame called Change_Percentage, representing the percentage change from the previous month.\n",
    "\n"
   ],
   "id": "71323c7318598fbb"
  },
  {
   "metadata": {
    "ExecuteTime": {
     "end_time": "2024-11-07T11:00:00.986547Z",
     "start_time": "2024-11-07T11:00:00.976111Z"
    }
   },
   "cell_type": "code",
   "source": [
    "# A - 1\n",
    "# your code here\n",
    "Interest_rates_in_the_US.head()"
   ],
   "id": "399887d7fba8803a",
   "outputs": [
    {
     "data": {
      "text/plain": [
       "   FEDFUNDS  Year  Month\n",
       "0      0.80  1954      7\n",
       "1      1.22  1954      8\n",
       "2      1.07  1954      9\n",
       "3      0.85  1954     10\n",
       "4      0.83  1954     11"
      ],
      "text/html": [
       "<div>\n",
       "<style scoped>\n",
       "    .dataframe tbody tr th:only-of-type {\n",
       "        vertical-align: middle;\n",
       "    }\n",
       "\n",
       "    .dataframe tbody tr th {\n",
       "        vertical-align: top;\n",
       "    }\n",
       "\n",
       "    .dataframe thead th {\n",
       "        text-align: right;\n",
       "    }\n",
       "</style>\n",
       "<table border=\"1\" class=\"dataframe\">\n",
       "  <thead>\n",
       "    <tr style=\"text-align: right;\">\n",
       "      <th></th>\n",
       "      <th>FEDFUNDS</th>\n",
       "      <th>Year</th>\n",
       "      <th>Month</th>\n",
       "    </tr>\n",
       "  </thead>\n",
       "  <tbody>\n",
       "    <tr>\n",
       "      <th>0</th>\n",
       "      <td>0.80</td>\n",
       "      <td>1954</td>\n",
       "      <td>7</td>\n",
       "    </tr>\n",
       "    <tr>\n",
       "      <th>1</th>\n",
       "      <td>1.22</td>\n",
       "      <td>1954</td>\n",
       "      <td>8</td>\n",
       "    </tr>\n",
       "    <tr>\n",
       "      <th>2</th>\n",
       "      <td>1.07</td>\n",
       "      <td>1954</td>\n",
       "      <td>9</td>\n",
       "    </tr>\n",
       "    <tr>\n",
       "      <th>3</th>\n",
       "      <td>0.85</td>\n",
       "      <td>1954</td>\n",
       "      <td>10</td>\n",
       "    </tr>\n",
       "    <tr>\n",
       "      <th>4</th>\n",
       "      <td>0.83</td>\n",
       "      <td>1954</td>\n",
       "      <td>11</td>\n",
       "    </tr>\n",
       "  </tbody>\n",
       "</table>\n",
       "</div>"
      ]
     },
     "execution_count": 132,
     "metadata": {},
     "output_type": "execute_result"
    }
   ],
   "execution_count": 132
  },
  {
   "metadata": {
    "ExecuteTime": {
     "end_time": "2024-11-07T11:00:12.425230Z",
     "start_time": "2024-11-07T11:00:12.416317Z"
    }
   },
   "cell_type": "code",
   "source": [
    "# A - 2\n",
    "# your code here\n",
    "israel_interest['Current_Rate'].mean()"
   ],
   "id": "ed7d96f61ac44c60",
   "outputs": [
    {
     "data": {
      "text/plain": [
       "6.390991780821918"
      ]
     },
     "execution_count": 134,
     "metadata": {},
     "output_type": "execute_result"
    }
   ],
   "execution_count": 134
  },
  {
   "metadata": {
    "ExecuteTime": {
     "end_time": "2024-11-07T11:00:14.717694Z",
     "start_time": "2024-11-07T11:00:14.708377Z"
    }
   },
   "cell_type": "code",
   "source": [
    "# A - 3\n",
    "# your code here\n",
    "id_max = USD_to_ILS_exchange_rates['Change_From_Last_Month'].idxmax()\n",
    "USD_to_ILS_exchange_rates.loc[id_max]"
   ],
   "id": "c29c363cd4e9a279",
   "outputs": [
    {
     "data": {
      "text/plain": [
       "Month                        4.0000\n",
       "Year                      2009.0000\n",
       "Current_Rate                 4.1730\n",
       "Change_From_Last_Month       0.2692\n",
       "Name: 165, dtype: float64"
      ]
     },
     "execution_count": 135,
     "metadata": {},
     "output_type": "execute_result"
    }
   ],
   "execution_count": 135
  },
  {
   "metadata": {
    "ExecuteTime": {
     "end_time": "2024-11-07T11:00:16.034041Z",
     "start_time": "2024-11-07T11:00:16.028279Z"
    }
   },
   "cell_type": "code",
   "source": [
    "# A - 4\n",
    "# your code here\n",
    "sum_decreased  = US_Interest['Change_From_Last_Month'] < 0\n",
    "sum_decreased.sum()"
   ],
   "id": "c4c8ec122d04672",
   "outputs": [
    {
     "data": {
      "text/plain": [
       "328"
      ]
     },
     "execution_count": 136,
     "metadata": {},
     "output_type": "execute_result"
    }
   ],
   "execution_count": 136
  },
  {
   "metadata": {
    "ExecuteTime": {
     "end_time": "2024-11-07T11:00:24.957920Z",
     "start_time": "2024-11-07T11:00:24.942753Z"
    }
   },
   "cell_type": "code",
   "source": [
    "# A - 5\n",
    "# your code here\n",
    "israel_interest['Change_Percentage'] = israel_interest['Change_From_Last_Month'] / israel_interest['Current_Rate'] * 100\n",
    "israel_interest"
   ],
   "id": "49115d5dbff52532",
   "outputs": [
    {
     "data": {
      "text/plain": [
       "     Year  Month  Current_Rate  Change_From_Last_Month  Change_Percentage\n",
       "0    1994      1        11.780                     NaN                NaN\n",
       "1    1994      2        11.870                   0.090           0.758214\n",
       "2    1994      3        11.870                   0.000           0.000000\n",
       "3    1994      4        11.870                   0.000           0.000000\n",
       "4    1994      5        12.240                   0.370           3.022876\n",
       "..    ...    ...           ...                     ...                ...\n",
       "360  2024      1         6.024                  -0.226          -3.751660\n",
       "361  2024      2         6.000                  -0.024          -0.400000\n",
       "362  2024      3         6.000                   0.000           0.000000\n",
       "363  2024      4         6.000                   0.000           0.000000\n",
       "364  2024      5         6.000                   0.000           0.000000\n",
       "\n",
       "[365 rows x 5 columns]"
      ],
      "text/html": [
       "<div>\n",
       "<style scoped>\n",
       "    .dataframe tbody tr th:only-of-type {\n",
       "        vertical-align: middle;\n",
       "    }\n",
       "\n",
       "    .dataframe tbody tr th {\n",
       "        vertical-align: top;\n",
       "    }\n",
       "\n",
       "    .dataframe thead th {\n",
       "        text-align: right;\n",
       "    }\n",
       "</style>\n",
       "<table border=\"1\" class=\"dataframe\">\n",
       "  <thead>\n",
       "    <tr style=\"text-align: right;\">\n",
       "      <th></th>\n",
       "      <th>Year</th>\n",
       "      <th>Month</th>\n",
       "      <th>Current_Rate</th>\n",
       "      <th>Change_From_Last_Month</th>\n",
       "      <th>Change_Percentage</th>\n",
       "    </tr>\n",
       "  </thead>\n",
       "  <tbody>\n",
       "    <tr>\n",
       "      <th>0</th>\n",
       "      <td>1994</td>\n",
       "      <td>1</td>\n",
       "      <td>11.780</td>\n",
       "      <td>NaN</td>\n",
       "      <td>NaN</td>\n",
       "    </tr>\n",
       "    <tr>\n",
       "      <th>1</th>\n",
       "      <td>1994</td>\n",
       "      <td>2</td>\n",
       "      <td>11.870</td>\n",
       "      <td>0.090</td>\n",
       "      <td>0.758214</td>\n",
       "    </tr>\n",
       "    <tr>\n",
       "      <th>2</th>\n",
       "      <td>1994</td>\n",
       "      <td>3</td>\n",
       "      <td>11.870</td>\n",
       "      <td>0.000</td>\n",
       "      <td>0.000000</td>\n",
       "    </tr>\n",
       "    <tr>\n",
       "      <th>3</th>\n",
       "      <td>1994</td>\n",
       "      <td>4</td>\n",
       "      <td>11.870</td>\n",
       "      <td>0.000</td>\n",
       "      <td>0.000000</td>\n",
       "    </tr>\n",
       "    <tr>\n",
       "      <th>4</th>\n",
       "      <td>1994</td>\n",
       "      <td>5</td>\n",
       "      <td>12.240</td>\n",
       "      <td>0.370</td>\n",
       "      <td>3.022876</td>\n",
       "    </tr>\n",
       "    <tr>\n",
       "      <th>...</th>\n",
       "      <td>...</td>\n",
       "      <td>...</td>\n",
       "      <td>...</td>\n",
       "      <td>...</td>\n",
       "      <td>...</td>\n",
       "    </tr>\n",
       "    <tr>\n",
       "      <th>360</th>\n",
       "      <td>2024</td>\n",
       "      <td>1</td>\n",
       "      <td>6.024</td>\n",
       "      <td>-0.226</td>\n",
       "      <td>-3.751660</td>\n",
       "    </tr>\n",
       "    <tr>\n",
       "      <th>361</th>\n",
       "      <td>2024</td>\n",
       "      <td>2</td>\n",
       "      <td>6.000</td>\n",
       "      <td>-0.024</td>\n",
       "      <td>-0.400000</td>\n",
       "    </tr>\n",
       "    <tr>\n",
       "      <th>362</th>\n",
       "      <td>2024</td>\n",
       "      <td>3</td>\n",
       "      <td>6.000</td>\n",
       "      <td>0.000</td>\n",
       "      <td>0.000000</td>\n",
       "    </tr>\n",
       "    <tr>\n",
       "      <th>363</th>\n",
       "      <td>2024</td>\n",
       "      <td>4</td>\n",
       "      <td>6.000</td>\n",
       "      <td>0.000</td>\n",
       "      <td>0.000000</td>\n",
       "    </tr>\n",
       "    <tr>\n",
       "      <th>364</th>\n",
       "      <td>2024</td>\n",
       "      <td>5</td>\n",
       "      <td>6.000</td>\n",
       "      <td>0.000</td>\n",
       "      <td>0.000000</td>\n",
       "    </tr>\n",
       "  </tbody>\n",
       "</table>\n",
       "<p>365 rows × 5 columns</p>\n",
       "</div>"
      ]
     },
     "execution_count": 137,
     "metadata": {},
     "output_type": "execute_result"
    }
   ],
   "execution_count": 137
  },
  {
   "metadata": {},
   "cell_type": "markdown",
   "source": [
    "## Part B: Merging DataFrames\n",
    "1. Merge the US and Israeli interest rates DataFrames on Year and Month.\n",
    "\n",
    "2. In the merged DataFrame, create a new column Rate_Difference that shows the difference between the Israeli and US interest rates for each month.\n",
    "\n",
    "3. Identify all months when the Israeli interest rate was at least 1% higher than the US interest rate - IH (Israeli Higher).\n",
    "Identify all months when the US interest rate was at least 1% higher than the Israeli interest rate - UH (US Higher).\n",
    "Identify all months when the interest rates were within 1% of each other - N (Near)\n",
    "make a new column called Rate_Comparison with the following values: IH, UH, or N.\n",
    "\n",
    "4. Merge the exchange rate DataFrame with the merged interest rates DataFrame.\n",
    "\n",
    "5. After merging all three DataFrames, find the correlation between the Rate_Difference and the Current_Rate of the exchange rate.\n",
    "hint: find the connection between the difference in interest rates and the exchange rates, use any method you think is appropriate.\n",
    "provide an explanation of the results (in Hebrew) - at least 2 rows of text + a proof of the connection(some output) you found.\n"
   ],
   "id": "37324394ba9e1454"
  },
  {
   "metadata": {
    "ExecuteTime": {
     "end_time": "2024-11-07T11:00:28.944958Z",
     "start_time": "2024-11-07T11:00:28.926730Z"
    }
   },
   "cell_type": "code",
   "source": [
    "# B - 1\n",
    "# your code here\n",
    "interest_israel_us = pd.merge(israel_interest, US_Interest, how='inner', on=['Year', 'Month'])\n",
    "interest_israel_us.head()"
   ],
   "id": "f6fcdba8d4d32d73",
   "outputs": [
    {
     "data": {
      "text/plain": [
       "   Year  Month  Current_Rate  Change_From_Last_Month_x  Change_Percentage  \\\n",
       "0  1994      1         11.78                       NaN                NaN   \n",
       "1  1994      2         11.87                      0.09           0.758214   \n",
       "2  1994      3         11.87                      0.00           0.000000   \n",
       "3  1994      4         11.87                      0.00           0.000000   \n",
       "4  1994      5         12.24                      0.37           3.022876   \n",
       "\n",
       "        DATE  FEDFUNDS  Change_From_Last_Month_y  \n",
       "0 1994-01-01      3.05                      0.09  \n",
       "1 1994-02-01      3.25                      0.20  \n",
       "2 1994-03-01      3.34                      0.09  \n",
       "3 1994-04-01      3.56                      0.22  \n",
       "4 1994-05-01      4.01                      0.45  "
      ],
      "text/html": [
       "<div>\n",
       "<style scoped>\n",
       "    .dataframe tbody tr th:only-of-type {\n",
       "        vertical-align: middle;\n",
       "    }\n",
       "\n",
       "    .dataframe tbody tr th {\n",
       "        vertical-align: top;\n",
       "    }\n",
       "\n",
       "    .dataframe thead th {\n",
       "        text-align: right;\n",
       "    }\n",
       "</style>\n",
       "<table border=\"1\" class=\"dataframe\">\n",
       "  <thead>\n",
       "    <tr style=\"text-align: right;\">\n",
       "      <th></th>\n",
       "      <th>Year</th>\n",
       "      <th>Month</th>\n",
       "      <th>Current_Rate</th>\n",
       "      <th>Change_From_Last_Month_x</th>\n",
       "      <th>Change_Percentage</th>\n",
       "      <th>DATE</th>\n",
       "      <th>FEDFUNDS</th>\n",
       "      <th>Change_From_Last_Month_y</th>\n",
       "    </tr>\n",
       "  </thead>\n",
       "  <tbody>\n",
       "    <tr>\n",
       "      <th>0</th>\n",
       "      <td>1994</td>\n",
       "      <td>1</td>\n",
       "      <td>11.78</td>\n",
       "      <td>NaN</td>\n",
       "      <td>NaN</td>\n",
       "      <td>1994-01-01</td>\n",
       "      <td>3.05</td>\n",
       "      <td>0.09</td>\n",
       "    </tr>\n",
       "    <tr>\n",
       "      <th>1</th>\n",
       "      <td>1994</td>\n",
       "      <td>2</td>\n",
       "      <td>11.87</td>\n",
       "      <td>0.09</td>\n",
       "      <td>0.758214</td>\n",
       "      <td>1994-02-01</td>\n",
       "      <td>3.25</td>\n",
       "      <td>0.20</td>\n",
       "    </tr>\n",
       "    <tr>\n",
       "      <th>2</th>\n",
       "      <td>1994</td>\n",
       "      <td>3</td>\n",
       "      <td>11.87</td>\n",
       "      <td>0.00</td>\n",
       "      <td>0.000000</td>\n",
       "      <td>1994-03-01</td>\n",
       "      <td>3.34</td>\n",
       "      <td>0.09</td>\n",
       "    </tr>\n",
       "    <tr>\n",
       "      <th>3</th>\n",
       "      <td>1994</td>\n",
       "      <td>4</td>\n",
       "      <td>11.87</td>\n",
       "      <td>0.00</td>\n",
       "      <td>0.000000</td>\n",
       "      <td>1994-04-01</td>\n",
       "      <td>3.56</td>\n",
       "      <td>0.22</td>\n",
       "    </tr>\n",
       "    <tr>\n",
       "      <th>4</th>\n",
       "      <td>1994</td>\n",
       "      <td>5</td>\n",
       "      <td>12.24</td>\n",
       "      <td>0.37</td>\n",
       "      <td>3.022876</td>\n",
       "      <td>1994-05-01</td>\n",
       "      <td>4.01</td>\n",
       "      <td>0.45</td>\n",
       "    </tr>\n",
       "  </tbody>\n",
       "</table>\n",
       "</div>"
      ]
     },
     "execution_count": 138,
     "metadata": {},
     "output_type": "execute_result"
    }
   ],
   "execution_count": 138
  },
  {
   "metadata": {
    "ExecuteTime": {
     "end_time": "2024-11-07T11:00:39.718538Z",
     "start_time": "2024-11-07T11:00:39.704724Z"
    }
   },
   "cell_type": "code",
   "source": [
    "# B - 2\n",
    "# your code here\n",
    "interest_israel_us['Rate_Difference '] = interest_israel_us['Current_Rate'] - interest_israel_us['FEDFUNDS']\n",
    "\n",
    "interest_israel_us.head()"
   ],
   "id": "7f18978fee56c6d6",
   "outputs": [
    {
     "data": {
      "text/plain": [
       "   Year  Month  Current_Rate  Change_From_Last_Month_x  Change_Percentage  \\\n",
       "0  1994      1         11.78                       NaN                NaN   \n",
       "1  1994      2         11.87                      0.09           0.758214   \n",
       "2  1994      3         11.87                      0.00           0.000000   \n",
       "3  1994      4         11.87                      0.00           0.000000   \n",
       "4  1994      5         12.24                      0.37           3.022876   \n",
       "\n",
       "        DATE  FEDFUNDS  Change_From_Last_Month_y  Rate_Difference   \n",
       "0 1994-01-01      3.05                      0.09              8.73  \n",
       "1 1994-02-01      3.25                      0.20              8.62  \n",
       "2 1994-03-01      3.34                      0.09              8.53  \n",
       "3 1994-04-01      3.56                      0.22              8.31  \n",
       "4 1994-05-01      4.01                      0.45              8.23  "
      ],
      "text/html": [
       "<div>\n",
       "<style scoped>\n",
       "    .dataframe tbody tr th:only-of-type {\n",
       "        vertical-align: middle;\n",
       "    }\n",
       "\n",
       "    .dataframe tbody tr th {\n",
       "        vertical-align: top;\n",
       "    }\n",
       "\n",
       "    .dataframe thead th {\n",
       "        text-align: right;\n",
       "    }\n",
       "</style>\n",
       "<table border=\"1\" class=\"dataframe\">\n",
       "  <thead>\n",
       "    <tr style=\"text-align: right;\">\n",
       "      <th></th>\n",
       "      <th>Year</th>\n",
       "      <th>Month</th>\n",
       "      <th>Current_Rate</th>\n",
       "      <th>Change_From_Last_Month_x</th>\n",
       "      <th>Change_Percentage</th>\n",
       "      <th>DATE</th>\n",
       "      <th>FEDFUNDS</th>\n",
       "      <th>Change_From_Last_Month_y</th>\n",
       "      <th>Rate_Difference</th>\n",
       "    </tr>\n",
       "  </thead>\n",
       "  <tbody>\n",
       "    <tr>\n",
       "      <th>0</th>\n",
       "      <td>1994</td>\n",
       "      <td>1</td>\n",
       "      <td>11.78</td>\n",
       "      <td>NaN</td>\n",
       "      <td>NaN</td>\n",
       "      <td>1994-01-01</td>\n",
       "      <td>3.05</td>\n",
       "      <td>0.09</td>\n",
       "      <td>8.73</td>\n",
       "    </tr>\n",
       "    <tr>\n",
       "      <th>1</th>\n",
       "      <td>1994</td>\n",
       "      <td>2</td>\n",
       "      <td>11.87</td>\n",
       "      <td>0.09</td>\n",
       "      <td>0.758214</td>\n",
       "      <td>1994-02-01</td>\n",
       "      <td>3.25</td>\n",
       "      <td>0.20</td>\n",
       "      <td>8.62</td>\n",
       "    </tr>\n",
       "    <tr>\n",
       "      <th>2</th>\n",
       "      <td>1994</td>\n",
       "      <td>3</td>\n",
       "      <td>11.87</td>\n",
       "      <td>0.00</td>\n",
       "      <td>0.000000</td>\n",
       "      <td>1994-03-01</td>\n",
       "      <td>3.34</td>\n",
       "      <td>0.09</td>\n",
       "      <td>8.53</td>\n",
       "    </tr>\n",
       "    <tr>\n",
       "      <th>3</th>\n",
       "      <td>1994</td>\n",
       "      <td>4</td>\n",
       "      <td>11.87</td>\n",
       "      <td>0.00</td>\n",
       "      <td>0.000000</td>\n",
       "      <td>1994-04-01</td>\n",
       "      <td>3.56</td>\n",
       "      <td>0.22</td>\n",
       "      <td>8.31</td>\n",
       "    </tr>\n",
       "    <tr>\n",
       "      <th>4</th>\n",
       "      <td>1994</td>\n",
       "      <td>5</td>\n",
       "      <td>12.24</td>\n",
       "      <td>0.37</td>\n",
       "      <td>3.022876</td>\n",
       "      <td>1994-05-01</td>\n",
       "      <td>4.01</td>\n",
       "      <td>0.45</td>\n",
       "      <td>8.23</td>\n",
       "    </tr>\n",
       "  </tbody>\n",
       "</table>\n",
       "</div>"
      ]
     },
     "execution_count": 140,
     "metadata": {},
     "output_type": "execute_result"
    }
   ],
   "execution_count": 140
  },
  {
   "metadata": {
    "ExecuteTime": {
     "end_time": "2024-11-07T11:00:49.994145Z",
     "start_time": "2024-11-07T11:00:49.988552Z"
    }
   },
   "cell_type": "code",
   "source": [
    "# B - 3\n",
    "# your code here\n",
    "interest_israel_us['Rate_Difference_Percentage'] = ((interest_israel_us['Current_Rate'] - interest_israel_us['FEDFUNDS']) / interest_israel_us['FEDFUNDS']) / 100"
   ],
   "id": "c6dcf835650149bf",
   "outputs": [],
   "execution_count": 141
  },
  {
   "metadata": {
    "ExecuteTime": {
     "end_time": "2024-11-07T11:00:50.875341Z",
     "start_time": "2024-11-07T11:00:50.869219Z"
    }
   },
   "cell_type": "code",
   "source": [
    "def Rate_Comparison(column):\n",
    "    list_of_columns = []\n",
    "    for row in column:\n",
    "        if row >= 0.01:\n",
    "            list_of_columns.append('IH')\n",
    "        elif row <= -0.01:\n",
    "            list_of_columns.append('UH')\n",
    "        else:\n",
    "            list_of_columns.append('N')\n",
    "    return list_of_columns"
   ],
   "id": "76595a6e3b97a0ec",
   "outputs": [],
   "execution_count": 142
  },
  {
   "metadata": {
    "ExecuteTime": {
     "end_time": "2024-11-07T11:00:53.018574Z",
     "start_time": "2024-11-07T11:00:53.003032Z"
    }
   },
   "cell_type": "code",
   "source": [
    "list_of_columns = Rate_Comparison(interest_israel_us['Rate_Difference_Percentage'])\n",
    "interest_israel_us['Rate_Comparison'] = list_of_columns\n",
    "interest_israel_us.head()"
   ],
   "id": "c9d5e6810fceba82",
   "outputs": [
    {
     "data": {
      "text/plain": [
       "   Year  Month  Current_Rate  Change_From_Last_Month_x  Change_Percentage  \\\n",
       "0  1994      1         11.78                       NaN                NaN   \n",
       "1  1994      2         11.87                      0.09           0.758214   \n",
       "2  1994      3         11.87                      0.00           0.000000   \n",
       "3  1994      4         11.87                      0.00           0.000000   \n",
       "4  1994      5         12.24                      0.37           3.022876   \n",
       "\n",
       "        DATE  FEDFUNDS  Change_From_Last_Month_y  Rate_Difference   \\\n",
       "0 1994-01-01      3.05                      0.09              8.73   \n",
       "1 1994-02-01      3.25                      0.20              8.62   \n",
       "2 1994-03-01      3.34                      0.09              8.53   \n",
       "3 1994-04-01      3.56                      0.22              8.31   \n",
       "4 1994-05-01      4.01                      0.45              8.23   \n",
       "\n",
       "   Rate_Difference_Percentage Rate_Comparison  \n",
       "0                    0.028623              IH  \n",
       "1                    0.026523              IH  \n",
       "2                    0.025539              IH  \n",
       "3                    0.023343              IH  \n",
       "4                    0.020524              IH  "
      ],
      "text/html": [
       "<div>\n",
       "<style scoped>\n",
       "    .dataframe tbody tr th:only-of-type {\n",
       "        vertical-align: middle;\n",
       "    }\n",
       "\n",
       "    .dataframe tbody tr th {\n",
       "        vertical-align: top;\n",
       "    }\n",
       "\n",
       "    .dataframe thead th {\n",
       "        text-align: right;\n",
       "    }\n",
       "</style>\n",
       "<table border=\"1\" class=\"dataframe\">\n",
       "  <thead>\n",
       "    <tr style=\"text-align: right;\">\n",
       "      <th></th>\n",
       "      <th>Year</th>\n",
       "      <th>Month</th>\n",
       "      <th>Current_Rate</th>\n",
       "      <th>Change_From_Last_Month_x</th>\n",
       "      <th>Change_Percentage</th>\n",
       "      <th>DATE</th>\n",
       "      <th>FEDFUNDS</th>\n",
       "      <th>Change_From_Last_Month_y</th>\n",
       "      <th>Rate_Difference</th>\n",
       "      <th>Rate_Difference_Percentage</th>\n",
       "      <th>Rate_Comparison</th>\n",
       "    </tr>\n",
       "  </thead>\n",
       "  <tbody>\n",
       "    <tr>\n",
       "      <th>0</th>\n",
       "      <td>1994</td>\n",
       "      <td>1</td>\n",
       "      <td>11.78</td>\n",
       "      <td>NaN</td>\n",
       "      <td>NaN</td>\n",
       "      <td>1994-01-01</td>\n",
       "      <td>3.05</td>\n",
       "      <td>0.09</td>\n",
       "      <td>8.73</td>\n",
       "      <td>0.028623</td>\n",
       "      <td>IH</td>\n",
       "    </tr>\n",
       "    <tr>\n",
       "      <th>1</th>\n",
       "      <td>1994</td>\n",
       "      <td>2</td>\n",
       "      <td>11.87</td>\n",
       "      <td>0.09</td>\n",
       "      <td>0.758214</td>\n",
       "      <td>1994-02-01</td>\n",
       "      <td>3.25</td>\n",
       "      <td>0.20</td>\n",
       "      <td>8.62</td>\n",
       "      <td>0.026523</td>\n",
       "      <td>IH</td>\n",
       "    </tr>\n",
       "    <tr>\n",
       "      <th>2</th>\n",
       "      <td>1994</td>\n",
       "      <td>3</td>\n",
       "      <td>11.87</td>\n",
       "      <td>0.00</td>\n",
       "      <td>0.000000</td>\n",
       "      <td>1994-03-01</td>\n",
       "      <td>3.34</td>\n",
       "      <td>0.09</td>\n",
       "      <td>8.53</td>\n",
       "      <td>0.025539</td>\n",
       "      <td>IH</td>\n",
       "    </tr>\n",
       "    <tr>\n",
       "      <th>3</th>\n",
       "      <td>1994</td>\n",
       "      <td>4</td>\n",
       "      <td>11.87</td>\n",
       "      <td>0.00</td>\n",
       "      <td>0.000000</td>\n",
       "      <td>1994-04-01</td>\n",
       "      <td>3.56</td>\n",
       "      <td>0.22</td>\n",
       "      <td>8.31</td>\n",
       "      <td>0.023343</td>\n",
       "      <td>IH</td>\n",
       "    </tr>\n",
       "    <tr>\n",
       "      <th>4</th>\n",
       "      <td>1994</td>\n",
       "      <td>5</td>\n",
       "      <td>12.24</td>\n",
       "      <td>0.37</td>\n",
       "      <td>3.022876</td>\n",
       "      <td>1994-05-01</td>\n",
       "      <td>4.01</td>\n",
       "      <td>0.45</td>\n",
       "      <td>8.23</td>\n",
       "      <td>0.020524</td>\n",
       "      <td>IH</td>\n",
       "    </tr>\n",
       "  </tbody>\n",
       "</table>\n",
       "</div>"
      ]
     },
     "execution_count": 143,
     "metadata": {},
     "output_type": "execute_result"
    }
   ],
   "execution_count": 143
  },
  {
   "metadata": {
    "ExecuteTime": {
     "end_time": "2024-11-07T11:01:04.023511Z",
     "start_time": "2024-11-07T11:01:04.005127Z"
    }
   },
   "cell_type": "code",
   "source": [
    "# B - 4\n",
    "# your code here\n",
    "interest_israel_us_exchange_rate = pd.merge(interest_israel_us, USD_to_ILS_exchange_rates, how='inner', on=['Year', 'Month'])\n",
    "interest_israel_us_exchange_rate.head()"
   ],
   "id": "3145d351d7cbe982",
   "outputs": [
    {
     "data": {
      "text/plain": [
       "   Year  Month  Current_Rate_x  Change_From_Last_Month_x  Change_Percentage  \\\n",
       "0  1994      1           11.78                       NaN                NaN   \n",
       "1  1994      2           11.87                      0.09           0.758214   \n",
       "2  1994      3           11.87                      0.00           0.000000   \n",
       "3  1994      4           11.87                      0.00           0.000000   \n",
       "4  1994      5           12.24                      0.37           3.022876   \n",
       "\n",
       "        DATE  FEDFUNDS  Change_From_Last_Month_y  Rate_Difference   \\\n",
       "0 1994-01-01      3.05                      0.09              8.73   \n",
       "1 1994-02-01      3.25                      0.20              8.62   \n",
       "2 1994-03-01      3.34                      0.09              8.53   \n",
       "3 1994-04-01      3.56                      0.22              8.31   \n",
       "4 1994-05-01      4.01                      0.45              8.23   \n",
       "\n",
       "   Rate_Difference_Percentage Rate_Comparison  Current_Rate_y  \\\n",
       "0                    0.028623              IH          2.9872   \n",
       "1                    0.026523              IH          2.9760   \n",
       "2                    0.025539              IH          2.9661   \n",
       "3                    0.023343              IH          3.0010   \n",
       "4                    0.020524              IH          3.0360   \n",
       "\n",
       "   Change_From_Last_Month  \n",
       "0                  0.0112  \n",
       "1                  0.0099  \n",
       "2                 -0.0349  \n",
       "3                 -0.0350  \n",
       "4                  0.0093  "
      ],
      "text/html": [
       "<div>\n",
       "<style scoped>\n",
       "    .dataframe tbody tr th:only-of-type {\n",
       "        vertical-align: middle;\n",
       "    }\n",
       "\n",
       "    .dataframe tbody tr th {\n",
       "        vertical-align: top;\n",
       "    }\n",
       "\n",
       "    .dataframe thead th {\n",
       "        text-align: right;\n",
       "    }\n",
       "</style>\n",
       "<table border=\"1\" class=\"dataframe\">\n",
       "  <thead>\n",
       "    <tr style=\"text-align: right;\">\n",
       "      <th></th>\n",
       "      <th>Year</th>\n",
       "      <th>Month</th>\n",
       "      <th>Current_Rate_x</th>\n",
       "      <th>Change_From_Last_Month_x</th>\n",
       "      <th>Change_Percentage</th>\n",
       "      <th>DATE</th>\n",
       "      <th>FEDFUNDS</th>\n",
       "      <th>Change_From_Last_Month_y</th>\n",
       "      <th>Rate_Difference</th>\n",
       "      <th>Rate_Difference_Percentage</th>\n",
       "      <th>Rate_Comparison</th>\n",
       "      <th>Current_Rate_y</th>\n",
       "      <th>Change_From_Last_Month</th>\n",
       "    </tr>\n",
       "  </thead>\n",
       "  <tbody>\n",
       "    <tr>\n",
       "      <th>0</th>\n",
       "      <td>1994</td>\n",
       "      <td>1</td>\n",
       "      <td>11.78</td>\n",
       "      <td>NaN</td>\n",
       "      <td>NaN</td>\n",
       "      <td>1994-01-01</td>\n",
       "      <td>3.05</td>\n",
       "      <td>0.09</td>\n",
       "      <td>8.73</td>\n",
       "      <td>0.028623</td>\n",
       "      <td>IH</td>\n",
       "      <td>2.9872</td>\n",
       "      <td>0.0112</td>\n",
       "    </tr>\n",
       "    <tr>\n",
       "      <th>1</th>\n",
       "      <td>1994</td>\n",
       "      <td>2</td>\n",
       "      <td>11.87</td>\n",
       "      <td>0.09</td>\n",
       "      <td>0.758214</td>\n",
       "      <td>1994-02-01</td>\n",
       "      <td>3.25</td>\n",
       "      <td>0.20</td>\n",
       "      <td>8.62</td>\n",
       "      <td>0.026523</td>\n",
       "      <td>IH</td>\n",
       "      <td>2.9760</td>\n",
       "      <td>0.0099</td>\n",
       "    </tr>\n",
       "    <tr>\n",
       "      <th>2</th>\n",
       "      <td>1994</td>\n",
       "      <td>3</td>\n",
       "      <td>11.87</td>\n",
       "      <td>0.00</td>\n",
       "      <td>0.000000</td>\n",
       "      <td>1994-03-01</td>\n",
       "      <td>3.34</td>\n",
       "      <td>0.09</td>\n",
       "      <td>8.53</td>\n",
       "      <td>0.025539</td>\n",
       "      <td>IH</td>\n",
       "      <td>2.9661</td>\n",
       "      <td>-0.0349</td>\n",
       "    </tr>\n",
       "    <tr>\n",
       "      <th>3</th>\n",
       "      <td>1994</td>\n",
       "      <td>4</td>\n",
       "      <td>11.87</td>\n",
       "      <td>0.00</td>\n",
       "      <td>0.000000</td>\n",
       "      <td>1994-04-01</td>\n",
       "      <td>3.56</td>\n",
       "      <td>0.22</td>\n",
       "      <td>8.31</td>\n",
       "      <td>0.023343</td>\n",
       "      <td>IH</td>\n",
       "      <td>3.0010</td>\n",
       "      <td>-0.0350</td>\n",
       "    </tr>\n",
       "    <tr>\n",
       "      <th>4</th>\n",
       "      <td>1994</td>\n",
       "      <td>5</td>\n",
       "      <td>12.24</td>\n",
       "      <td>0.37</td>\n",
       "      <td>3.022876</td>\n",
       "      <td>1994-05-01</td>\n",
       "      <td>4.01</td>\n",
       "      <td>0.45</td>\n",
       "      <td>8.23</td>\n",
       "      <td>0.020524</td>\n",
       "      <td>IH</td>\n",
       "      <td>3.0360</td>\n",
       "      <td>0.0093</td>\n",
       "    </tr>\n",
       "  </tbody>\n",
       "</table>\n",
       "</div>"
      ]
     },
     "execution_count": 145,
     "metadata": {},
     "output_type": "execute_result"
    }
   ],
   "execution_count": 145
  },
  {
   "metadata": {
    "ExecuteTime": {
     "end_time": "2024-11-07T11:03:13.133801Z",
     "start_time": "2024-11-07T11:03:13.129438Z"
    }
   },
   "cell_type": "code",
   "source": [
    "# B - 5\n",
    "# your code here\n"
   ],
   "id": "fe04eba74c68ab35",
   "outputs": [],
   "execution_count": 148
  },
  {
   "metadata": {},
   "cell_type": "code",
   "source": "",
   "id": "48d876ac1bc8092",
   "outputs": [],
   "execution_count": null
  },
  {
   "metadata": {},
   "cell_type": "markdown",
   "source": [
    "## Part C: Analyzing Relationships Between DataFrames\n",
    "1. Analyze whether increases in US interest rates are associated with increases or decreases in the USD to ILS exchange rate in the same month.\n",
    "\n",
    "2. Determine if changes in the Israeli interest rate have a stronger impact on the exchange rate than changes in the US interest rate.\n",
    "\n",
    "3. Find any time lags in the effect of interest rate changes on the exchange rate. For example, does a change in US interest rates affect the exchange rate in the following month?\n",
    "(כלומר- האם כשיש שינוי בריבית כלשהי - האם מייד יש שינוי בשער ההמרה? או שיש דיליי של חודש/חודשים עד שמרגישים את ההשפעה - אם בכלל?)\n",
    "\n",
    "4. Calculate the rolling past 3-month average of the exchange rate for each data time, and add it as a new column.\n",
    "\n",
    "5. Identify any periods where both US and Israeli interest rates were decreasing, and analyze how the exchange rate behaved during those periods.\n",
    "\n"
   ],
   "id": "22213f81bdf06965"
  },
  {
   "metadata": {},
   "cell_type": "code",
   "source": "# Bonus ",
   "id": "706a690fd803211c",
   "outputs": [],
   "execution_count": null
  },
  {
   "metadata": {},
   "cell_type": "markdown",
   "source": [
    "# Bonus\n",
    "choose 3 global / local events or periods that you think could have affected the exchange rate or interest rates\n",
    "and analyze the effect of these events on the data you collected.\n",
    "show proof of your analysis that supports your claim.\n",
    "\n",
    "(כלומר- תבחנו אירועים שקרו בתקופה שאתם עובדים עליה ובדקו איך הם השפיעו על הנתונים שאתם עובדים איתם)\n",
    "למשל: בחירות בארה״ב, בחירות בישראל, רוסיה אוקראינה, מלחמות בישראל וכו׳."
   ],
   "id": "8be22debf92d8f3a"
  },
  {
   "metadata": {},
   "cell_type": "code",
   "source": "# Your code here",
   "id": "7cd992b43f3700e8",
   "outputs": [],
   "execution_count": null
  }
 ],
 "metadata": {
  "kernelspec": {
   "display_name": "Python 3",
   "language": "python",
   "name": "python3"
  },
  "language_info": {
   "codemirror_mode": {
    "name": "ipython",
    "version": 2
   },
   "file_extension": ".py",
   "mimetype": "text/x-python",
   "name": "python",
   "nbconvert_exporter": "python",
   "pygments_lexer": "ipython2",
   "version": "2.7.6"
  }
 },
 "nbformat": 4,
 "nbformat_minor": 5
}
